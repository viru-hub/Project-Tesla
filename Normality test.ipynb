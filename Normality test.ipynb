{
 "cells": [
  {
   "cell_type": "code",
   "execution_count": 1,
   "metadata": {},
   "outputs": [],
   "source": [
    "from scipy import stats"
   ]
  },
  {
   "cell_type": "code",
   "execution_count": 2,
   "metadata": {},
   "outputs": [],
   "source": [
    "import scipy "
   ]
  },
  {
   "cell_type": "code",
   "execution_count": 3,
   "metadata": {},
   "outputs": [],
   "source": [
    "import numpy as np"
   ]
  },
  {
   "cell_type": "code",
   "execution_count": 4,
   "metadata": {},
   "outputs": [],
   "source": [
    "import matplotlib.pyplot as plt"
   ]
  },
  {
   "cell_type": "code",
   "execution_count": 7,
   "metadata": {},
   "outputs": [],
   "source": [
    "import pandas as pd"
   ]
  },
  {
   "cell_type": "code",
   "execution_count": 8,
   "metadata": {},
   "outputs": [],
   "source": [
    "dd = pd.read_csv(r'F:\\VIRU\\New folder\\country.csv')"
   ]
  },
  {
   "cell_type": "code",
   "execution_count": 18,
   "metadata": {},
   "outputs": [
    {
     "data": {
      "text/html": [
       "<div>\n",
       "<style scoped>\n",
       "    .dataframe tbody tr th:only-of-type {\n",
       "        vertical-align: middle;\n",
       "    }\n",
       "\n",
       "    .dataframe tbody tr th {\n",
       "        vertical-align: top;\n",
       "    }\n",
       "\n",
       "    .dataframe thead th {\n",
       "        text-align: right;\n",
       "    }\n",
       "</style>\n",
       "<table border=\"1\" class=\"dataframe\">\n",
       "  <thead>\n",
       "    <tr style=\"text-align: right;\">\n",
       "      <th></th>\n",
       "      <th>country</th>\n",
       "      <th>sales</th>\n",
       "    </tr>\n",
       "  </thead>\n",
       "  <tbody>\n",
       "    <tr>\n",
       "      <th>0</th>\n",
       "      <td>1</td>\n",
       "      <td>0</td>\n",
       "    </tr>\n",
       "    <tr>\n",
       "      <th>1</th>\n",
       "      <td>1</td>\n",
       "      <td>0</td>\n",
       "    </tr>\n",
       "    <tr>\n",
       "      <th>2</th>\n",
       "      <td>1</td>\n",
       "      <td>50</td>\n",
       "    </tr>\n",
       "    <tr>\n",
       "      <th>3</th>\n",
       "      <td>1</td>\n",
       "      <td>50</td>\n",
       "    </tr>\n",
       "    <tr>\n",
       "      <th>4</th>\n",
       "      <td>1</td>\n",
       "      <td>50</td>\n",
       "    </tr>\n",
       "  </tbody>\n",
       "</table>\n",
       "</div>"
      ],
      "text/plain": [
       "   country  sales\n",
       "0        1      0\n",
       "1        1      0\n",
       "2        1     50\n",
       "3        1     50\n",
       "4        1     50"
      ]
     },
     "execution_count": 18,
     "metadata": {},
     "output_type": "execute_result"
    }
   ],
   "source": [
    "# label encoded the country names as 1,2,3,.....\n",
    "dd.head()"
   ]
  },
  {
   "cell_type": "code",
   "execution_count": 9,
   "metadata": {},
   "outputs": [],
   "source": [
    "x = dd['sales']"
   ]
  },
  {
   "cell_type": "code",
   "execution_count": 10,
   "metadata": {},
   "outputs": [
    {
     "data": {
      "text/plain": [
       "0     0\n",
       "1     0\n",
       "2    50\n",
       "3    50\n",
       "4    50\n",
       "Name: sales, dtype: int64"
      ]
     },
     "execution_count": 10,
     "metadata": {},
     "output_type": "execute_result"
    }
   ],
   "source": [
    "x.head()"
   ]
  },
  {
   "cell_type": "code",
   "execution_count": 12,
   "metadata": {},
   "outputs": [
    {
     "data": {
      "text/plain": [
       "<Figure size 432x288 with 0 Axes>"
      ]
     },
     "execution_count": 12,
     "metadata": {},
     "output_type": "execute_result"
    },
    {
     "data": {
      "image/png": "[encoded data removed]",
      "text/plain": [
       "<Figure size 432x288 with 1 Axes>"
      ]
     },
     "metadata": {
      "needs_background": "light"
     },
     "output_type": "display_data"
    },
    {
     "data": {
      "text/plain": [
       "<Figure size 432x288 with 0 Axes>"
      ]
     },
     "metadata": {},
     "output_type": "display_data"
    }
   ],
   "source": [
    "stats.probplot(x,plot=plt)\n",
    "plt.figure()"
   ]
  },
  {
   "cell_type": "code",
   "execution_count": 14,
   "metadata": {},
   "outputs": [
    {
     "data": {
      "text/plain": [
       "ShapiroResult(statistic=0.33821791410446167, pvalue=0.0)"
      ]
     },
     "execution_count": 14,
     "metadata": {},
     "output_type": "execute_result"
    }
   ],
   "source": [
    "stats.shapiro(x)\n",
    "# pvalue>0.05 data is normal\n",
    "# pvalue<0.05 data isn't normal"
   ]
  },
  {
   "cell_type": "code",
   "execution_count": 15,
   "metadata": {},
   "outputs": [],
   "source": [
    "#pvalue is less than 0.05 \n",
    "#data is not normal"
   ]
  },
  {
   "cell_type": "code",
   "execution_count": 16,
   "metadata": {},
   "outputs": [
    {
     "name": "stdout",
     "output_type": "stream",
     "text": [
      "Collecting pingouinNote: you may need to restart the kernel to use updated packages.\n",
      "  Downloading pingouin-0.3.10.tar.gz (204 kB)\n",
      "Requirement already satisfied: numpy>=1.15 in c:\\users\\personal\\appdata\\local\\programs\\python\\python38\\lib\\site-packages (from pingouin) (1.19.4)\n",
      "Requirement already satisfied: scipy>=1.3 in c:\\users\\personal\\appdata\\local\\programs\\python\\python38\\lib\\site-packages (from pingouin) (1.5.4)\n"
     ]
    },
    {
     "name": "stderr",
     "output_type": "stream",
     "text": [
      "WARNING: You are using pip version 20.3.3; however, version 21.0.1 is available.\n",
      "You should consider upgrading via the 'c:\\users\\personal\\appdata\\local\\programs\\python\\python38\\python.exe -m pip install --upgrade pip' command.\n"
     ]
    },
    {
     "name": "stdout",
     "output_type": "stream",
     "text": [
      "\n",
      "Requirement already satisfied: pandas>=0.24 in c:\\users\\personal\\appdata\\local\\programs\\python\\python38\\lib\\site-packages (from pingouin) (1.1.4)\n",
      "Requirement already satisfied: matplotlib>=3.0.2 in c:\\users\\personal\\appdata\\local\\programs\\python\\python38\\lib\\site-packages (from pingouin) (3.3.3)\n",
      "Requirement already satisfied: seaborn>=0.9.0 in c:\\users\\personal\\appdata\\local\\programs\\python\\python38\\lib\\site-packages (from pingouin) (0.11.1)\n",
      "Requirement already satisfied: statsmodels>=0.10.0 in c:\\users\\personal\\appdata\\local\\programs\\python\\python38\\lib\\site-packages (from pingouin) (0.12.2)\n",
      "Requirement already satisfied: scikit-learn in c:\\users\\personal\\appdata\\local\\programs\\python\\python38\\lib\\site-packages (from pingouin) (0.24.0)\n",
      "Requirement already satisfied: python-dateutil>=2.1 in c:\\users\\personal\\appdata\\local\\programs\\python\\python38\\lib\\site-packages (from matplotlib>=3.0.2->pingouin) (2.8.1)\n",
      "Requirement already satisfied: kiwisolver>=1.0.1 in c:\\users\\personal\\appdata\\local\\programs\\python\\python38\\lib\\site-packages (from matplotlib>=3.0.2->pingouin) (1.3.1)\n",
      "Requirement already satisfied: cycler>=0.10 in c:\\users\\personal\\appdata\\local\\programs\\python\\python38\\lib\\site-packages (from matplotlib>=3.0.2->pingouin) (0.10.0)\n",
      "Requirement already satisfied: pillow>=6.2.0 in c:\\users\\personal\\appdata\\local\\programs\\python\\python38\\lib\\site-packages (from matplotlib>=3.0.2->pingouin) (8.0.1)\n",
      "Requirement already satisfied: pyparsing!=2.0.4,!=2.1.2,!=2.1.6,>=2.0.3 in c:\\users\\personal\\appdata\\local\\programs\\python\\python38\\lib\\site-packages (from matplotlib>=3.0.2->pingouin) (2.4.7)\n",
      "Requirement already satisfied: six in c:\\users\\personal\\appdata\\local\\programs\\python\\python38\\lib\\site-packages (from cycler>=0.10->matplotlib>=3.0.2->pingouin) (1.15.0)\n",
      "Requirement already satisfied: pytz>=2017.2 in c:\\users\\personal\\appdata\\local\\programs\\python\\python38\\lib\\site-packages (from pandas>=0.24->pingouin) (2020.4)\n",
      "Collecting pandas_flavor>=0.1.2\n",
      "  Downloading pandas_flavor-0.2.0-py2.py3-none-any.whl (6.6 kB)\n",
      "Requirement already satisfied: patsy>=0.5 in c:\\users\\personal\\appdata\\local\\programs\\python\\python38\\lib\\site-packages (from statsmodels>=0.10.0->pingouin) (0.5.1)\n",
      "Collecting outdated\n",
      "  Downloading outdated-0.2.1-py3-none-any.whl (7.5 kB)\n",
      "Collecting littleutils\n",
      "  Downloading littleutils-0.2.2.tar.gz (6.6 kB)\n",
      "Collecting requests\n",
      "  Downloading requests-2.25.1-py2.py3-none-any.whl (61 kB)\n",
      "Requirement already satisfied: urllib3<1.27,>=1.21.1 in c:\\users\\personal\\appdata\\local\\programs\\python\\python38\\lib\\site-packages (from requests->outdated->pingouin) (1.26.4)\n",
      "Collecting certifi>=2017.4.17\n",
      "  Downloading certifi-2020.12.5-py2.py3-none-any.whl (147 kB)\n",
      "Collecting chardet<5,>=3.0.2\n",
      "  Downloading chardet-4.0.0-py2.py3-none-any.whl (178 kB)\n",
      "Collecting idna<3,>=2.5\n",
      "  Downloading idna-2.10-py2.py3-none-any.whl (58 kB)\n",
      "Requirement already satisfied: threadpoolctl>=2.0.0 in c:\\users\\personal\\appdata\\local\\programs\\python\\python38\\lib\\site-packages (from scikit-learn->pingouin) (2.1.0)\n",
      "Requirement already satisfied: joblib>=0.11 in c:\\users\\personal\\appdata\\local\\programs\\python\\python38\\lib\\site-packages (from scikit-learn->pingouin) (1.0.0)\n",
      "Collecting tabulate\n",
      "  Downloading tabulate-0.8.9-py3-none-any.whl (25 kB)\n",
      "Collecting xarray\n",
      "  Downloading xarray-0.17.0-py3-none-any.whl (759 kB)\n",
      "Requirement already satisfied: setuptools>=40.4 in c:\\users\\personal\\appdata\\local\\programs\\python\\python38\\lib\\site-packages (from xarray->pandas_flavor>=0.1.2->pingouin) (41.2.0)\n",
      "Using legacy 'setup.py install' for pingouin, since package 'wheel' is not installed.\n",
      "Using legacy 'setup.py install' for littleutils, since package 'wheel' is not installed.\n",
      "Installing collected packages: idna, chardet, certifi, xarray, requests, littleutils, tabulate, pandas-flavor, outdated, pingouin\n",
      "    Running setup.py install for littleutils: started\n",
      "    Running setup.py install for littleutils: finished with status 'done'\n",
      "    Running setup.py install for pingouin: started\n",
      "    Running setup.py install for pingouin: finished with status 'done'\n",
      "Successfully installed certifi-2020.12.5 chardet-4.0.0 idna-2.10 littleutils-0.2.2 outdated-0.2.1 pandas-flavor-0.2.0 pingouin-0.3.10 requests-2.25.1 tabulate-0.8.9 xarray-0.17.0\n"
     ]
    }
   ],
   "source": [
    "pip install pingouin"
   ]
  },
  {
   "cell_type": "code",
   "execution_count": 17,
   "metadata": {},
   "outputs": [],
   "source": [
    "from pingouin import kruskal"
   ]
  },
  {
   "cell_type": "code",
   "execution_count": 19,
   "metadata": {},
   "outputs": [
    {
     "data": {
      "text/html": [
       "<div>\n",
       "<style scoped>\n",
       "    .dataframe tbody tr th:only-of-type {\n",
       "        vertical-align: middle;\n",
       "    }\n",
       "\n",
       "    .dataframe tbody tr th {\n",
       "        vertical-align: top;\n",
       "    }\n",
       "\n",
       "    .dataframe thead th {\n",
       "        text-align: right;\n",
       "    }\n",
       "</style>\n",
       "<table border=\"1\" class=\"dataframe\">\n",
       "  <thead>\n",
       "    <tr style=\"text-align: right;\">\n",
       "      <th></th>\n",
       "      <th>Source</th>\n",
       "      <th>ddof1</th>\n",
       "      <th>H</th>\n",
       "      <th>p-unc</th>\n",
       "    </tr>\n",
       "  </thead>\n",
       "  <tbody>\n",
       "    <tr>\n",
       "      <th>Kruskal</th>\n",
       "      <td>sales</td>\n",
       "      <td>458</td>\n",
       "      <td>633.724411</td>\n",
       "      <td>9.106773e-08</td>\n",
       "    </tr>\n",
       "  </tbody>\n",
       "</table>\n",
       "</div>"
      ],
      "text/plain": [
       "        Source  ddof1           H         p-unc\n",
       "Kruskal  sales    458  633.724411  9.106773e-08"
      ]
     },
     "execution_count": 19,
     "metadata": {},
     "output_type": "execute_result"
    }
   ],
   "source": [
    "# null : there is no difference between countries\n",
    "# pvalue less than 0.05 ,we reject null hypothesis\n",
    "kruskal(data=dd,dv='country',between='sales')"
   ]
  },
  {
   "cell_type": "code",
   "execution_count": null,
   "metadata": {},
   "outputs": [],
   "source": []
  }
 ],
 "metadata": {
  "kernelspec": {
   "display_name": "Python 3",
   "language": "python",
   "name": "python3"
  },
  "language_info": {
   "codemirror_mode": {
    "name": "ipython",
    "version": 3
   },
   "file_extension": ".py",
   "mimetype": "text/x-python",
   "name": "python",
   "nbconvert_exporter": "python",
   "pygments_lexer": "ipython3",
   "version": "3.8.3"
  }
 },
 "nbformat": 4,
 "nbformat_minor": 4
}
